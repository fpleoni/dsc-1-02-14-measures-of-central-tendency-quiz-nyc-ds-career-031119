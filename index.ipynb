{
 "cells": [
  {
   "cell_type": "markdown",
   "metadata": {},
   "source": [
    "# Measures of Central Tendency - Quiz\n",
    "\n",
    "## Objectives\n",
    "You will be able to:\n",
    "* Understand and describe the significance of measuring central tendency of continuous data\n",
    "* Understand the formula and intuition behind the mean, median, mode and modal class\n",
    "* Compare mean-median-mode, along with histograms to explain the central tendency of given data"
   ]
  },
  {
   "cell_type": "markdown",
   "metadata": {},
   "source": [
    "**Note, for these exercises, you do not need to write code to answer them - we'll do that later. Just do them by hand or with a calculator to make sure you're comfortable with the process of calculating the answers!**\n",
    "\n",
    "### Exercise 1\n",
    "Calculate the mean, median and mode for this data set: \n",
    "```\n",
    "19, 18, 21, 16, 15, 17, 20, 18\n",
    "```\n",
    "While comparing the results of three measures, comment about this distribution. "
   ]
  },
  {
   "cell_type": "code",
   "execution_count": 17,
   "metadata": {},
   "outputs": [
    {
     "name": "stdout",
     "output_type": "stream",
     "text": [
      "18.0\n",
      "16.0\n",
      "18\n"
     ]
    }
   ],
   "source": [
    "import statistics\n",
    "data = [19, 18, 21, 16, 15, 17, 20, 18]\n",
    "mean = sum(data)/len(data)\n",
    "print(mean)\n",
    "def median(list):\n",
    "    if len(data)%2 == 0:\n",
    "        i = int(len(data)/2)\n",
    "        median = (data[i]+data[i+1])/2\n",
    "    if len(data)%2 != 0:\n",
    "        i = len(data)/2\n",
    "        i = int(i+0.5)\n",
    "        median = data[i]\n",
    "    return median\n",
    "print(median(data))\n",
    "mode = statistics.mode(data)\n",
    "print(mode)"
   ]
  },
  {
   "cell_type": "markdown",
   "metadata": {},
   "source": [
    "### Exercise 2\n",
    "\n",
    "Calculate the mean, median and mode for given distribution and state which of these measures does not describe the \"middle\" of this data set? and why ?\n",
    "```\n",
    "100, 99, 97, 97, 96, 98, 95, 72\n",
    "```"
   ]
  },
  {
   "cell_type": "code",
   "execution_count": 18,
   "metadata": {},
   "outputs": [
    {
     "name": "stdout",
     "output_type": "stream",
     "text": [
      "94.25\n",
      "97.0\n",
      "97\n"
     ]
    }
   ],
   "source": [
    "data = [100, 99, 97, 97, 96, 98, 95, 72]\n",
    "mean = sum(data)/len(data)\n",
    "print(mean)\n",
    "def median(list):\n",
    "    if len(data)%2 == 0:\n",
    "        i = int(len(data)/2)\n",
    "        median = (data[i]+data[i+1])/2\n",
    "    if len(data)%2 != 0:\n",
    "        i = len(data)/2\n",
    "        i = int(i+0.5)\n",
    "        median = data[i]\n",
    "    return median\n",
    "print(median(data))\n",
    "mode = statistics.mode(data)\n",
    "print(mode)"
   ]
  },
  {
   "cell_type": "markdown",
   "metadata": {},
   "source": [
    "### Exercise 3\n",
    "On the first three days of his bookshop opening, Joe sold 15, 18, and 16 books (He initially hoped that he would sell 17 books every day).  How many books does he need to sell on the next day to have a mean sale of 17?"
   ]
  },
  {
   "cell_type": "code",
   "execution_count": 27,
   "metadata": {},
   "outputs": [
    {
     "data": {
      "text/plain": [
       "17.0"
      ]
     },
     "execution_count": 27,
     "metadata": {},
     "output_type": "execute_result"
    }
   ],
   "source": [
    "books_sold = 15 + 18 + 16 + 19\n",
    "# how_many_to_mean = (17 * 4) - books_sold\n",
    "# how_many_to_mean\n",
    "\n",
    "mean = books_sold / 4\n",
    "mean"
   ]
  },
  {
   "cell_type": "markdown",
   "metadata": {},
   "source": [
    "### Exercise 4\n",
    "The histograms show the amount of time (hours per day) spent on Facebook by 46 middle school girls and 40 middle school boys from a school in San Francisco. A total of 50 boys and 50 girls took the survey, 4 girls and 10 boys did not use Facebook at all. \n",
    "Each is graphed with a bin width of 0.25 hours.\n",
    "\n",
    "![](boys.png)\n",
    "![](girls.png)\n",
    "\n",
    "Looking at these histograms, answer following questions. \n",
    "\n",
    "*Hint: For most parts, you will have to figure out the location of required bins and count the frequencies. *\n",
    "\n",
    "#### How many boys spend more than 1.5 hours/day on Facebook?\n"
   ]
  },
  {
   "cell_type": "code",
   "execution_count": 9,
   "metadata": {},
   "outputs": [],
   "source": [
    "# Your answer here "
   ]
  },
  {
   "cell_type": "markdown",
   "metadata": {},
   "source": [
    "#### Compare the percentage of boys and girls that spend more than zero but less than 1 hour/day on Facebook."
   ]
  },
  {
   "cell_type": "code",
   "execution_count": 10,
   "metadata": {},
   "outputs": [],
   "source": [
    "# Your answer here "
   ]
  },
  {
   "cell_type": "markdown",
   "metadata": {},
   "source": [
    "#### Find the bin where the median of the boys' data set lies."
   ]
  },
  {
   "cell_type": "code",
   "execution_count": 11,
   "metadata": {},
   "outputs": [],
   "source": [
    "# Your answer here "
   ]
  },
  {
   "cell_type": "markdown",
   "metadata": {},
   "source": [
    "#### In terms of Facebook usage times based on given data, what can you conclude about usage habits of boys and girls?"
   ]
  },
  {
   "cell_type": "code",
   "execution_count": 12,
   "metadata": {},
   "outputs": [],
   "source": [
    "# Your answer here "
   ]
  }
 ],
 "metadata": {
  "kernelspec": {
   "display_name": "Python 3",
   "language": "python",
   "name": "python3"
  },
  "language_info": {
   "codemirror_mode": {
    "name": "ipython",
    "version": 3
   },
   "file_extension": ".py",
   "mimetype": "text/x-python",
   "name": "python",
   "nbconvert_exporter": "python",
   "pygments_lexer": "ipython3",
   "version": "3.6.6"
  }
 },
 "nbformat": 4,
 "nbformat_minor": 2
}
